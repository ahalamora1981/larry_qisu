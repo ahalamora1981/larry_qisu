{
 "cells": [
  {
   "cell_type": "code",
   "execution_count": 1,
   "id": "905eea39-b063-409c-9ebc-849a5713ef62",
   "metadata": {
    "ExecutionIndicator": {
     "show": true
    },
    "execution": {
     "iopub.execute_input": "2023-09-12T13:39:53.215558Z",
     "iopub.status.busy": "2023-09-12T13:39:53.215285Z",
     "iopub.status.idle": "2023-09-12T13:39:55.473775Z",
     "shell.execute_reply": "2023-09-12T13:39:55.473127Z",
     "shell.execute_reply.started": "2023-09-12T13:39:53.215541Z"
    },
    "tags": []
   },
   "outputs": [
    {
     "name": "stderr",
     "output_type": "stream",
     "text": [
      "2023-09-12 21:39:54,577 - modelscope - INFO - PyTorch version 2.0.1+cpu Found.\n",
      "2023-09-12 21:39:54,580 - modelscope - INFO - TensorFlow version 2.13.0 Found.\n",
      "2023-09-12 21:39:54,580 - modelscope - INFO - Loading ast index from /mnt/workspace/.cache/modelscope/ast_indexer\n",
      "2023-09-12 21:39:54,613 - modelscope - INFO - Loading done! Current index file version is 1.9.0, with md5 e2da70fb3b092e45bc4fed751641d2fa and a total number of 921 components indexed\n"
     ]
    }
   ],
   "source": [
    "import cv2\n",
    "import os\n",
    "import shutil\n",
    "from modelscope.pipelines import pipeline\n",
    "from modelscope.utils.constant import  Tasks\n",
    "\n",
    "from modelscope.utils.cv.image_utils import draw_face_detection_result\n",
    "from modelscope.preprocessors.image import LoadImage\n",
    "\n",
    "import matplotlib.pyplot as plt"
   ]
  },
  {
   "cell_type": "code",
   "execution_count": 2,
   "id": "f805b952-7dec-424d-b348-6427e7042ef4",
   "metadata": {
    "ExecutionIndicator": {
     "show": true
    },
    "execution": {
     "iopub.execute_input": "2023-09-12T13:39:55.475259Z",
     "iopub.status.busy": "2023-09-12T13:39:55.474856Z",
     "iopub.status.idle": "2023-09-12T13:39:58.007623Z",
     "shell.execute_reply": "2023-09-12T13:39:58.007087Z",
     "shell.execute_reply.started": "2023-09-12T13:39:55.475241Z"
    },
    "scrolled": true,
    "tags": []
   },
   "outputs": [
    {
     "name": "stderr",
     "output_type": "stream",
     "text": [
      "2023-09-12 21:39:55,923 - modelscope - INFO - Model revision not specified, use the latest revision: v1.1\n",
      "2023-09-12 21:39:56,115 - modelscope - INFO - initiate model from /mnt/workspace/.cache/modelscope/damo/cv_ddsar_face-detection_iclr23-damofd\n",
      "2023-09-12 21:39:56,115 - modelscope - INFO - initiate model from location /mnt/workspace/.cache/modelscope/damo/cv_ddsar_face-detection_iclr23-damofd.\n",
      "2023-09-12 21:39:56,116 - modelscope - INFO - initialize model from /mnt/workspace/.cache/modelscope/damo/cv_ddsar_face-detection_iclr23-damofd\n",
      "/opt/conda/lib/python3.8/site-packages/mmcv/__init__.py:20: UserWarning: On January 1, 2023, MMCV will release v2.0.0, in which it will remove components related to the training process and add a data transformation module. In addition, it will rename the package names mmcv to mmcv-lite and mmcv-full to mmcv. See https://github.com/open-mmlab/mmcv/blob/master/docs/en/compatibility.md for more details.\n",
      "  warnings.warn(\n",
      "/opt/conda/lib/python3.8/site-packages/mmdet/models/dense_heads/anchor_head.py:116: UserWarning: DeprecationWarning: `num_anchors` is deprecated, for consistency or also use `num_base_priors` instead\n",
      "  warnings.warn('DeprecationWarning: `num_anchors` is deprecated, '\n",
      "/opt/conda/lib/python3.8/site-packages/mmdet/models/dense_heads/anchor_head.py:123: UserWarning: DeprecationWarning: anchor_generator is deprecated, please use \"prior_generator\" instead\n",
      "  warnings.warn('DeprecationWarning: anchor_generator is deprecated, '\n",
      "2023-09-12 21:39:57,959 - mmcv - INFO - initialize PAFPN with init_cfg {'type': 'Xavier', 'layer': 'Conv2d', 'distribution': 'uniform'}\n",
      "2023-09-12 21:39:57,968 - mmcv - INFO - \n",
      "lateral_convs.0.conv.weight - torch.Size([16, 64, 1, 1]): \n",
      "XavierInit: gain=1, distribution=uniform, bias=0 \n",
      " \n",
      "2023-09-12 21:39:57,970 - mmcv - INFO - \n",
      "lateral_convs.0.conv.bias - torch.Size([16]): \n",
      "The value is the same before and after calling `init_weights` of PAFPN  \n",
      " \n",
      "2023-09-12 21:39:57,970 - mmcv - INFO - \n",
      "lateral_convs.1.conv.weight - torch.Size([16, 120, 1, 1]): \n",
      "XavierInit: gain=1, distribution=uniform, bias=0 \n",
      " \n",
      "2023-09-12 21:39:57,970 - mmcv - INFO - \n",
      "lateral_convs.1.conv.bias - torch.Size([16]): \n",
      "The value is the same before and after calling `init_weights` of PAFPN  \n",
      " \n",
      "2023-09-12 21:39:57,971 - mmcv - INFO - \n",
      "lateral_convs.2.conv.weight - torch.Size([16, 160, 1, 1]): \n",
      "XavierInit: gain=1, distribution=uniform, bias=0 \n",
      " \n",
      "2023-09-12 21:39:57,971 - mmcv - INFO - \n",
      "lateral_convs.2.conv.bias - torch.Size([16]): \n",
      "The value is the same before and after calling `init_weights` of PAFPN  \n",
      " \n",
      "2023-09-12 21:39:57,971 - mmcv - INFO - \n",
      "fpn_convs.0.conv.weight - torch.Size([16, 16, 3, 3]): \n",
      "XavierInit: gain=1, distribution=uniform, bias=0 \n",
      " \n",
      "2023-09-12 21:39:57,972 - mmcv - INFO - \n",
      "fpn_convs.0.conv.bias - torch.Size([16]): \n",
      "The value is the same before and after calling `init_weights` of PAFPN  \n",
      " \n",
      "2023-09-12 21:39:57,972 - mmcv - INFO - \n",
      "fpn_convs.1.conv.weight - torch.Size([16, 16, 3, 3]): \n",
      "XavierInit: gain=1, distribution=uniform, bias=0 \n",
      " \n",
      "2023-09-12 21:39:57,972 - mmcv - INFO - \n",
      "fpn_convs.1.conv.bias - torch.Size([16]): \n",
      "The value is the same before and after calling `init_weights` of PAFPN  \n",
      " \n",
      "2023-09-12 21:39:57,973 - mmcv - INFO - \n",
      "fpn_convs.2.conv.weight - torch.Size([16, 16, 3, 3]): \n",
      "XavierInit: gain=1, distribution=uniform, bias=0 \n",
      " \n",
      "2023-09-12 21:39:57,973 - mmcv - INFO - \n",
      "fpn_convs.2.conv.bias - torch.Size([16]): \n",
      "The value is the same before and after calling `init_weights` of PAFPN  \n",
      " \n",
      "2023-09-12 21:39:57,973 - mmcv - INFO - \n",
      "downsample_convs.0.conv.weight - torch.Size([16, 16, 3, 3]): \n",
      "XavierInit: gain=1, distribution=uniform, bias=0 \n",
      " \n",
      "2023-09-12 21:39:57,973 - mmcv - INFO - \n",
      "downsample_convs.0.conv.bias - torch.Size([16]): \n",
      "The value is the same before and after calling `init_weights` of PAFPN  \n",
      " \n",
      "2023-09-12 21:39:57,974 - mmcv - INFO - \n",
      "downsample_convs.1.conv.weight - torch.Size([16, 16, 3, 3]): \n",
      "XavierInit: gain=1, distribution=uniform, bias=0 \n",
      " \n",
      "2023-09-12 21:39:57,974 - mmcv - INFO - \n",
      "downsample_convs.1.conv.bias - torch.Size([16]): \n",
      "The value is the same before and after calling `init_weights` of PAFPN  \n",
      " \n",
      "2023-09-12 21:39:57,974 - mmcv - INFO - \n",
      "pafpn_convs.0.conv.weight - torch.Size([16, 16, 3, 3]): \n",
      "XavierInit: gain=1, distribution=uniform, bias=0 \n",
      " \n",
      "2023-09-12 21:39:57,975 - mmcv - INFO - \n",
      "pafpn_convs.0.conv.bias - torch.Size([16]): \n",
      "The value is the same before and after calling `init_weights` of PAFPN  \n",
      " \n",
      "2023-09-12 21:39:57,975 - mmcv - INFO - \n",
      "pafpn_convs.1.conv.weight - torch.Size([16, 16, 3, 3]): \n",
      "XavierInit: gain=1, distribution=uniform, bias=0 \n",
      " \n",
      "2023-09-12 21:39:57,975 - mmcv - INFO - \n",
      "pafpn_convs.1.conv.bias - torch.Size([16]): \n",
      "The value is the same before and after calling `init_weights` of PAFPN  \n",
      " \n",
      "2023-09-12 21:39:57,978 - modelscope - INFO - loading model from /mnt/workspace/.cache/modelscope/damo/cv_ddsar_face-detection_iclr23-damofd/pytorch_model.pt\n",
      "2023-09-12 21:39:58,001 - modelscope - INFO - load model done\n",
      "2023-09-12 21:39:58,003 - modelscope - INFO - cuda is not available, using cpu instead.\n"
     ]
    },
    {
     "name": "stdout",
     "output_type": "stream",
     "text": [
      "load checkpoint from local path: /mnt/workspace/.cache/modelscope/damo/cv_ddsar_face-detection_iclr23-damofd/pytorch_model.pt\n"
     ]
    }
   ],
   "source": [
    "face_detection = pipeline(task=Tasks.face_detection, model='damo/cv_ddsar_face-detection_iclr23-damofd')\n",
    "\n",
    "# face_detection = pipeline(task=Tasks.face_detection, model='damo/cv_resnet_facedetection_scrfd10gkps')"
   ]
  },
  {
   "cell_type": "code",
   "execution_count": 3,
   "id": "7b93732e-a622-4888-b45f-5a68ecd284cb",
   "metadata": {
    "ExecutionIndicator": {
     "show": true
    },
    "execution": {
     "iopub.execute_input": "2023-09-12T13:39:58.008734Z",
     "iopub.status.busy": "2023-09-12T13:39:58.008346Z",
     "iopub.status.idle": "2023-09-12T13:39:58.011980Z",
     "shell.execute_reply": "2023-09-12T13:39:58.011511Z",
     "shell.execute_reply.started": "2023-09-12T13:39:58.008713Z"
    },
    "tags": []
   },
   "outputs": [],
   "source": [
    "input_folder = '身份证'\n",
    "output_folder = 'output_face'\n",
    "\n",
    "img_list = [img_name for img_name in os.listdir(input_folder) if '.jpg' in img_name]\n",
    "img_path_list = [os.path.join(input_folder, img_name) for img_name in img_list]"
   ]
  },
  {
   "cell_type": "code",
   "execution_count": 4,
   "id": "4caa27bf-617f-40e9-bbfc-38d77405e6e8",
   "metadata": {
    "ExecutionIndicator": {
     "show": true
    },
    "execution": {
     "iopub.execute_input": "2023-09-12T13:40:00.019134Z",
     "iopub.status.busy": "2023-09-12T13:40:00.018791Z",
     "iopub.status.idle": "2023-09-12T13:41:40.197305Z",
     "shell.execute_reply": "2023-09-12T13:41:40.196774Z",
     "shell.execute_reply.started": "2023-09-12T13:40:00.019117Z"
    },
    "tags": []
   },
   "outputs": [
    {
     "name": "stderr",
     "output_type": "stream",
     "text": [
      "/opt/conda/lib/python3.8/site-packages/mmdet/core/anchor/anchor_generator.py:333: UserWarning: ``grid_anchors`` would be deprecated soon. Please use ``grid_priors`` \n",
      "  warnings.warn('``grid_anchors`` would be deprecated soon. '\n",
      "/opt/conda/lib/python3.8/site-packages/mmdet/core/anchor/anchor_generator.py:369: UserWarning: ``single_level_grid_anchors`` would be deprecated soon. Please use ``single_level_grid_priors`` \n",
      "  warnings.warn(\n"
     ]
    },
    {
     "name": "stdout",
     "output_type": "stream",
     "text": [
      "[0.47615599632263184]\n",
      "[0.4155106842517853]\n",
      "[]\n",
      "[]\n",
      "[0.8861689567565918]\n",
      "Found 1 faces\n"
     ]
    }
   ],
   "source": [
    "for img_path in img_path_list:\n",
    "    \n",
    "    result = face_detection(img_path)\n",
    "    img = cv2.imread(img_path)\n",
    "    output_img_path = os.path.join(output_folder, img_path.split('/')[1])\n",
    "    \n",
    "    print(result['scores'])\n",
    "    \n",
    "    if result['scores']:\n",
    "        if result['scores'][0] >= 0.6:\n",
    "            cv2.imwrite('temp.jpg', img)\n",
    "            img = draw_face_detection_result('temp.jpg', result)\n",
    "            break\n",
    "                                   \n",
    "    cv2.imwrite(output_img_path, img)"
   ]
  },
  {
   "cell_type": "code",
   "execution_count": 21,
   "id": "f6fa54a7-1db0-4fed-9b8f-ba356375d577",
   "metadata": {
    "ExecutionIndicator": {
     "show": false
    },
    "execution": {
     "iopub.execute_input": "2023-09-12T13:21:07.892906Z",
     "iopub.status.busy": "2023-09-12T13:21:07.892573Z",
     "iopub.status.idle": "2023-09-12T13:21:08.519023Z",
     "shell.execute_reply": "2023-09-12T13:21:08.518505Z",
     "shell.execute_reply.started": "2023-09-12T13:21:07.892889Z"
    },
    "tags": []
   },
   "outputs": [
    {
     "data": {
      "text/plain": [
       "'/mnt/workspace/output_face.zip'"
      ]
     },
     "execution_count": 21,
     "metadata": {},
     "output_type": "execute_result"
    }
   ],
   "source": [
    "shutil.make_archive('output_face', 'zip', 'output_face')"
   ]
  },
  {
   "cell_type": "code",
   "execution_count": null,
   "id": "13fc93ea-0f24-4dde-8e4a-6c98998a58d1",
   "metadata": {
    "execution": {
     "iopub.status.busy": "2023-09-12T13:26:47.121261Z",
     "iopub.status.idle": "2023-09-12T13:26:47.121457Z",
     "shell.execute_reply": "2023-09-12T13:26:47.121369Z",
     "shell.execute_reply.started": "2023-09-12T13:26:47.121360Z"
    },
    "tags": []
   },
   "outputs": [],
   "source": [
    "result['scores'][0]"
   ]
  },
  {
   "cell_type": "code",
   "execution_count": null,
   "id": "b6a9dec8-77c0-4993-96e8-3dabff9d5f8f",
   "metadata": {},
   "outputs": [],
   "source": [
    "cv2.imwrite(output_img_path, img)"
   ]
  }
 ],
 "metadata": {
  "kernelspec": {
   "display_name": "Python 3 (ipykernel)",
   "language": "python",
   "name": "python3"
  },
  "language_info": {
   "codemirror_mode": {
    "name": "ipython",
    "version": 3
   },
   "file_extension": ".py",
   "mimetype": "text/x-python",
   "name": "python",
   "nbconvert_exporter": "python",
   "pygments_lexer": "ipython3",
   "version": "3.8.16"
  }
 },
 "nbformat": 4,
 "nbformat_minor": 5
}
