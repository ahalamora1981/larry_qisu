{
 "cells": [
  {
   "cell_type": "code",
   "execution_count": 2,
   "id": "5eb5a2c1-7ba1-44e7-bb30-69582f2be81a",
   "metadata": {
    "ExecutionIndicator": {
     "show": true
    },
    "execution": {
     "iopub.execute_input": "2023-09-12T16:33:48.788914Z",
     "iopub.status.busy": "2023-09-12T16:33:48.788571Z",
     "iopub.status.idle": "2023-09-12T16:33:48.792424Z",
     "shell.execute_reply": "2023-09-12T16:33:48.791891Z",
     "shell.execute_reply.started": "2023-09-12T16:33:48.788896Z"
    },
    "tags": []
   },
   "outputs": [],
   "source": [
    "import os\n",
    "import cv2\n",
    "import numpy as np\n",
    "import shutil\n",
    "import matplotlib.pyplot as plt\n",
    "\n",
    "from modelscope.pipelines import pipeline\n",
    "from modelscope.utils.constant import Tasks\n",
    "from modelscope.outputs import OutputKeys\n",
    "from modelscope.utils.cv.image_utils import draw_face_detection_result\n",
    "from modelscope.preprocessors.image import LoadImage\n",
    "\n",
    "from docx import Document\n",
    "from docx.shared import Inches\n",
    "from docx.enum.text import WD_ALIGN_PARAGRAPH"
   ]
  },
  {
   "cell_type": "code",
   "execution_count": 3,
   "id": "8aa55b41-e314-4ab2-90a7-f2626ecb789f",
   "metadata": {
    "ExecutionIndicator": {
     "show": true
    },
    "execution": {
     "iopub.execute_input": "2023-09-12T15:14:51.158772Z",
     "iopub.status.busy": "2023-09-12T15:14:51.158162Z",
     "iopub.status.idle": "2023-09-12T15:14:51.162346Z",
     "shell.execute_reply": "2023-09-12T15:14:51.161868Z",
     "shell.execute_reply.started": "2023-09-12T15:14:51.158748Z"
    },
    "tags": []
   },
   "outputs": [],
   "source": [
    "def get_mask(img_path):\n",
    "    result = salient_detect(img_path)\n",
    "    cv2.imwrite('./temp/mask.jpg',result[OutputKeys.MASKS])\n",
    "    \n",
    "    # 读取掩码图像，确保它与原始图像具有相同的尺寸\n",
    "    mask_image = cv2.imread('./temp/mask.jpg', cv2.IMREAD_GRAYSCALE)\n",
    "    mask_image = cv2.GaussianBlur(mask_image, (5, 5), 0)\n",
    "    \n",
    "    return mask_image"
   ]
  },
  {
   "cell_type": "code",
   "execution_count": 4,
   "id": "021ef59e-528d-4e51-a787-70059b18e0ca",
   "metadata": {
    "ExecutionIndicator": {
     "show": true
    },
    "execution": {
     "iopub.execute_input": "2023-09-12T15:14:52.067555Z",
     "iopub.status.busy": "2023-09-12T15:14:52.067091Z",
     "iopub.status.idle": "2023-09-12T15:14:52.070930Z",
     "shell.execute_reply": "2023-09-12T15:14:52.070425Z",
     "shell.execute_reply.started": "2023-09-12T15:14:52.067538Z"
    },
    "tags": []
   },
   "outputs": [],
   "source": [
    "def get_black_bg_image(img, mask_img):\n",
    "    original_image = img\n",
    "    output_image = np.zeros_like(original_image)\n",
    "    \n",
    "    # 遍历原始图像的每个像素\n",
    "    for y in range(original_image.shape[0]):\n",
    "        for x in range(original_image.shape[1]):\n",
    "            # 检查掩码图像中的对应位置是否非零\n",
    "            if mask_img[y, x] != 0:\n",
    "                # 如果掩码非零，将原始图像中的像素复制到输出图像中\n",
    "                output_image[y, x] = original_image[y, x]\n",
    "    \n",
    "    return output_image"
   ]
  },
  {
   "cell_type": "code",
   "execution_count": 5,
   "id": "2625d648-bd33-4d2c-8325-3b72d1d8cbbe",
   "metadata": {
    "ExecutionIndicator": {
     "show": true
    },
    "execution": {
     "iopub.execute_input": "2023-09-12T15:14:52.824027Z",
     "iopub.status.busy": "2023-09-12T15:14:52.823615Z",
     "iopub.status.idle": "2023-09-12T15:14:52.828316Z",
     "shell.execute_reply": "2023-09-12T15:14:52.827824Z",
     "shell.execute_reply.started": "2023-09-12T15:14:52.824011Z"
    },
    "tags": []
   },
   "outputs": [],
   "source": [
    "def get_card_range(image):  # 传入掩码图片\n",
    "    \n",
    "    # 转换为灰度图像\n",
    "    gray = cv2.cvtColor(image, cv2.COLOR_BGR2GRAY)\n",
    "\n",
    "    # 创建二值化图像，将非黑色像素设置为白色\n",
    "    _, binary = cv2.threshold(gray, 1, 255, cv2.THRESH_BINARY)\n",
    "\n",
    "    # 查找非黑色区域的轮廓\n",
    "    contours, _ = cv2.findContours(binary, cv2.RETR_EXTERNAL, cv2.CHAIN_APPROX_SIMPLE)\n",
    "\n",
    "    if contours:\n",
    "        # 找到最上、最下、最左和最右的点\n",
    "        largest_contour = max(contours, key=cv2.contourArea)\n",
    "        leftmost = tuple(largest_contour[largest_contour[:, :, 0].argmin()][0])\n",
    "        rightmost = tuple(largest_contour[largest_contour[:, :, 0].argmax()][0])\n",
    "        topmost = tuple(largest_contour[largest_contour[:, :, 1].argmin()][0])\n",
    "        bottommost = tuple(largest_contour[largest_contour[:, :, 1].argmax()][0])\n",
    "    \n",
    "    return {'left':leftmost, 'right':rightmost, 'top':topmost, 'bottom':bottommost}"
   ]
  },
  {
   "cell_type": "code",
   "execution_count": 6,
   "id": "ecd873e0-d263-4ad6-8c38-0b50bef96b92",
   "metadata": {
    "ExecutionIndicator": {
     "show": true
    },
    "execution": {
     "iopub.execute_input": "2023-09-12T15:16:30.954908Z",
     "iopub.status.busy": "2023-09-12T15:16:30.954534Z",
     "iopub.status.idle": "2023-09-12T15:16:30.959530Z",
     "shell.execute_reply": "2023-09-12T15:16:30.958999Z",
     "shell.execute_reply.started": "2023-09-12T15:16:30.954889Z"
    },
    "tags": []
   },
   "outputs": [],
   "source": [
    "def range_is_card(image, card_range):\n",
    "    height, width = image.shape[:2]\n",
    "    \n",
    "    area_img = height * width\n",
    "    area_card_range = (card_range['right'][0] - card_range['left'][0]) * (card_range['bottom'][1] - card_range['top'][1])\n",
    "    \n",
    "    ratio = area_card_range / area_img\n",
    "    \n",
    "    # print(f'Area_img: {area_img}\\nArea_card_range: {area_card_range}\\nRatio: {(area_card_range/area_img):.2f}')\n",
    "    \n",
    "    if card_range['left'][0] >= width/2 or card_range['right'][0] <= width/2:\n",
    "        range_x_outside = True\n",
    "    else:\n",
    "        range_x_outside = False\n",
    "        \n",
    "    if card_range['top'][1] >= height/2 or card_range['bottom'][1] <= height/2:\n",
    "        range_y_outside = True\n",
    "    else:\n",
    "        range_y_outside = False\n",
    "    \n",
    "    # 用面积比小于0.25来判断轮廓是头像，而不是偏一侧的身份证\n",
    "    if (range_x_outside or range_y_outside) and ratio < 0.25:\n",
    "        return False\n",
    "    else:\n",
    "        return True"
   ]
  },
  {
   "cell_type": "code",
   "execution_count": 7,
   "id": "d0bf6863-bdc2-4936-9471-b1d36bc9099a",
   "metadata": {
    "ExecutionIndicator": {
     "show": true
    },
    "execution": {
     "iopub.execute_input": "2023-09-12T15:14:55.133431Z",
     "iopub.status.busy": "2023-09-12T15:14:55.132967Z",
     "iopub.status.idle": "2023-09-12T15:14:55.136902Z",
     "shell.execute_reply": "2023-09-12T15:14:55.136391Z",
     "shell.execute_reply.started": "2023-09-12T15:14:55.133413Z"
    },
    "tags": []
   },
   "outputs": [],
   "source": [
    "def get_cropped_image(image, card_range): # image 为白底图片, img_range 为左右上下四个点的字典\n",
    "    \n",
    "    leftmost = card_range['left']\n",
    "    rightmost = card_range['right']\n",
    "    topmost = card_range['top']\n",
    "    bottommost = card_range['bottom']\n",
    "\n",
    "    # 计算截取区域的坐标\n",
    "    x, y, w, h = leftmost[0], topmost[1], rightmost[0] - leftmost[0], bottommost[1] - topmost[1]\n",
    "\n",
    "    # 截取图像\n",
    "    cropped_image = image[y:y+h, x:x+w]\n",
    "\n",
    "    return cropped_image\n",
    "    "
   ]
  },
  {
   "cell_type": "code",
   "execution_count": 8,
   "id": "fb3c6f57-d3f8-4bd5-b417-f7fadc90f29f",
   "metadata": {
    "ExecutionIndicator": {
     "show": true
    },
    "execution": {
     "iopub.execute_input": "2023-09-12T15:14:56.882506Z",
     "iopub.status.busy": "2023-09-12T15:14:56.882011Z",
     "iopub.status.idle": "2023-09-12T15:14:56.885455Z",
     "shell.execute_reply": "2023-09-12T15:14:56.884965Z",
     "shell.execute_reply.started": "2023-09-12T15:14:56.882464Z"
    },
    "tags": []
   },
   "outputs": [],
   "source": [
    "def get_rotate_image_90(image):\n",
    "    # 获取图像的高度和宽度\n",
    "    height, width = image.shape[:2]\n",
    "\n",
    "    # 如果高度大于宽度，进行逆时针旋转90度\n",
    "    if height > width:\n",
    "        image = cv2.rotate(image, cv2.ROTATE_90_COUNTERCLOCKWISE)\n",
    "        \n",
    "    return image"
   ]
  },
  {
   "cell_type": "code",
   "execution_count": 9,
   "id": "b78b6b31-504f-4552-91c9-2a7803676ce3",
   "metadata": {
    "execution": {
     "iopub.execute_input": "2023-09-12T15:14:59.025006Z",
     "iopub.status.busy": "2023-09-12T15:14:59.024387Z",
     "iopub.status.idle": "2023-09-12T15:14:59.027626Z",
     "shell.execute_reply": "2023-09-12T15:14:59.027122Z",
     "shell.execute_reply.started": "2023-09-12T15:14:59.024989Z"
    },
    "tags": []
   },
   "outputs": [],
   "source": [
    "def get_rotate_image_180(image):\n",
    "    image = cv2.rotate(image, cv2.ROTATE_180)\n",
    "        \n",
    "    return image"
   ]
  },
  {
   "cell_type": "code",
   "execution_count": 10,
   "id": "24467dd8-f3af-44cc-b1e6-a9df08a80e5c",
   "metadata": {
    "execution": {
     "iopub.execute_input": "2023-09-12T15:15:00.637237Z",
     "iopub.status.busy": "2023-09-12T15:15:00.636791Z",
     "iopub.status.idle": "2023-09-12T15:15:00.640654Z",
     "shell.execute_reply": "2023-09-12T15:15:00.640156Z",
     "shell.execute_reply.started": "2023-09-12T15:15:00.637213Z"
    }
   },
   "outputs": [],
   "source": [
    "def back_is_upside_down(image):\n",
    "    height, width = image.shape[:2]\n",
    "    \n",
    "    # 分割图片为左右两个半区\n",
    "    left_half = image[:, :width // 2]\n",
    "    right_half = image[:, width // 2:]\n",
    "\n",
    "    # 计算左右两个半区的红色像素数量\n",
    "    red_pixels_left = count_red_pixels(left_half)\n",
    "    red_pixels_right = count_red_pixels(right_half)\n",
    "\n",
    "    # 比较红色像素数量并输出结果\n",
    "    if red_pixels_left < red_pixels_right:\n",
    "        return True\n",
    "    else:\n",
    "        return False"
   ]
  },
  {
   "cell_type": "code",
   "execution_count": 11,
   "id": "2df46cb7-88cd-4e57-8358-8c5769338163",
   "metadata": {
    "execution": {
     "iopub.execute_input": "2023-09-12T15:15:03.028591Z",
     "iopub.status.busy": "2023-09-12T15:15:03.028099Z",
     "iopub.status.idle": "2023-09-12T15:15:03.031864Z",
     "shell.execute_reply": "2023-09-12T15:15:03.031352Z",
     "shell.execute_reply.started": "2023-09-12T15:15:03.028572Z"
    },
    "tags": []
   },
   "outputs": [],
   "source": [
    "# 定义一个函数来计算红色像素的数量\n",
    "def count_red_pixels(image):\n",
    "    # 在HSV颜色空间中定义红色范围\n",
    "    lower_red = np.array([0, 100, 100])\n",
    "    upper_red = np.array([10, 255, 255])\n",
    "\n",
    "    # 转换图片到HSV颜色空间\n",
    "    hsv = cv2.cvtColor(image, cv2.COLOR_BGR2HSV)\n",
    "\n",
    "    # 使用掩码来获取红色像素\n",
    "    mask = cv2.inRange(hsv, lower_red, upper_red)\n",
    "    red_pixels = cv2.countNonZero(mask)\n",
    "\n",
    "    return red_pixels"
   ]
  },
  {
   "cell_type": "code",
   "execution_count": 12,
   "id": "cd34d350-5201-4b82-8e85-aa1aef83ac7a",
   "metadata": {
    "ExecutionIndicator": {
     "show": true
    },
    "execution": {
     "iopub.execute_input": "2023-09-12T15:52:51.277564Z",
     "iopub.status.busy": "2023-09-12T15:52:51.277201Z",
     "iopub.status.idle": "2023-09-12T15:52:51.280916Z",
     "shell.execute_reply": "2023-09-12T15:52:51.280379Z",
     "shell.execute_reply.started": "2023-09-12T15:52:51.277545Z"
    },
    "tags": []
   },
   "outputs": [],
   "source": [
    "def get_resized_image(image):\n",
    "    # 获取原始图像的高度、宽度和通道数\n",
    "    original_height, original_width, _ = image.shape\n",
    "    \n",
    "    # 设置新的高度为400像素，根据纵横比计算新的宽度\n",
    "    new_height = 400\n",
    "    new_width = int(original_width * (new_height / original_height))\n",
    "    \n",
    "    # 使用cv2.resize函数调整图像大小\n",
    "    resized_image = cv2.resize(image, (new_width, new_height))\n",
    "    \n",
    "    return resized_image"
   ]
  },
  {
   "cell_type": "code",
   "execution_count": 13,
   "id": "a29b74a4-2a9f-49de-8eb7-deac127587bd",
   "metadata": {
    "ExecutionIndicator": {
     "show": true
    },
    "execution": {
     "iopub.execute_input": "2023-09-12T16:29:00.453173Z",
     "iopub.status.busy": "2023-09-12T16:29:00.452833Z",
     "iopub.status.idle": "2023-09-12T16:29:00.457230Z",
     "shell.execute_reply": "2023-09-12T16:29:00.456654Z",
     "shell.execute_reply.started": "2023-09-12T16:29:00.453154Z"
    },
    "tags": []
   },
   "outputs": [],
   "source": [
    "# 定义输入路径、输出路径和临时路径\n",
    "input_path = '身份证'\n",
    "output_path = 'output'\n",
    "temp_path = 'temp'\n",
    "\n",
    "# 如果输出路径不存在，则创建它\n",
    "if output_path not in os.listdir('./'):\n",
    "    os.mkdir(output_path)\n",
    "    \n",
    "# 如果临时路径不存在，则创建它\n",
    "if temp_path not in os.listdir('./'):\n",
    "    os.mkdir(temp_path)\n",
    "\n",
    "# 获取输入路径中所有以'.jpg'结尾的图像文件名列表\n",
    "img_list = [img_name for img_name in os.listdir(input_path) if '.jpg' in img_name]\n",
    "\n",
    "# 构建完整的图像文件路径列表\n",
    "img_path_list = [os.path.join(input_path, img_name) for img_name in img_list]\n"
   ]
  },
  {
   "cell_type": "code",
   "execution_count": 14,
   "id": "028109be-016e-446e-acea-a00913178a6d",
   "metadata": {
    "ExecutionIndicator": {
     "show": true
    },
    "tags": []
   },
   "outputs": [
    {
     "name": "stderr",
     "output_type": "stream",
     "text": [
      "2023-10-08 13:53:07,529 - modelscope - INFO - Model revision not specified, use the latest revision: v1.0.0\n",
      "2023-10-08 13:53:07,896 - modelscope - INFO - initiate model from C:\\Users\\dell\\.cache\\modelscope\\hub\\damo\\cv_u2net_salient-detection\n",
      "2023-10-08 13:53:07,898 - modelscope - INFO - initiate model from location C:\\Users\\dell\\.cache\\modelscope\\hub\\damo\\cv_u2net_salient-detection.\n",
      "2023-10-08 13:53:07,902 - modelscope - INFO - initialize model from C:\\Users\\dell\\.cache\\modelscope\\hub\\damo\\cv_u2net_salient-detection\n",
      "2023-10-08 13:53:08,616 - modelscope - WARNING - No preprocessor field found in cfg.\n",
      "2023-10-08 13:53:08,618 - modelscope - WARNING - No val key and type key found in preprocessor domain of configuration.json file.\n",
      "2023-10-08 13:53:08,619 - modelscope - WARNING - Cannot find available config to build preprocessor at mode inference, current config: {'model_dir': 'C:\\\\Users\\\\dell\\\\.cache\\\\modelscope\\\\hub\\\\damo\\\\cv_u2net_salient-detection'}. trying to build by task and model information.\n",
      "2023-10-08 13:53:08,620 - modelscope - WARNING - No preprocessor key ('detection', 'semantic-segmentation') found in PREPROCESSOR_MAP, skip building preprocessor.\n",
      "2023-10-08 13:53:08,626 - modelscope - INFO - cuda is not available, using cpu instead.\n",
      "2023-10-08 13:53:09,199 - modelscope - INFO - Model revision not specified, use the latest revision: v1.1.0\n",
      "2023-10-08 13:53:09,582 - modelscope - INFO - initiate model from C:\\Users\\dell\\.cache\\modelscope\\hub\\damo\\cv_resnet_facedetection_scrfd10gkps\n",
      "2023-10-08 13:53:09,584 - modelscope - INFO - initiate model from location C:\\Users\\dell\\.cache\\modelscope\\hub\\damo\\cv_resnet_facedetection_scrfd10gkps.\n",
      "2023-10-08 13:53:09,589 - modelscope - INFO - initialize model from C:\\Users\\dell\\.cache\\modelscope\\hub\\damo\\cv_resnet_facedetection_scrfd10gkps\n",
      "d:\\Dev\\Projects\\Larry_project\\venv-larry\\lib\\site-packages\\mmcv\\__init__.py:20: UserWarning: On January 1, 2023, MMCV will release v2.0.0, in which it will remove components related to the training process and add a data transformation module. In addition, it will rename the package names mmcv to mmcv-lite and mmcv-full to mmcv. See https://github.com/open-mmlab/mmcv/blob/master/docs/en/compatibility.md for more details.\n",
      "  warnings.warn(\n",
      "d:\\Dev\\Projects\\Larry_project\\venv-larry\\lib\\site-packages\\mmdet\\models\\dense_heads\\anchor_head.py:116: UserWarning: DeprecationWarning: `num_anchors` is deprecated, for consistency or also use `num_base_priors` instead\n",
      "  warnings.warn('DeprecationWarning: `num_anchors` is deprecated, '\n",
      "d:\\Dev\\Projects\\Larry_project\\venv-larry\\lib\\site-packages\\mmdet\\models\\dense_heads\\anchor_head.py:123: UserWarning: DeprecationWarning: anchor_generator is deprecated, please use \"prior_generator\" instead\n",
      "  warnings.warn('DeprecationWarning: anchor_generator is deprecated, '\n",
      "2023-10-08 13:53:12,848 - mmcv - INFO - initialize PAFPN with init_cfg {'type': 'Xavier', 'layer': 'Conv2d', 'distribution': 'uniform'}\n",
      "2023-10-08 13:53:12,859 - mmcv - INFO - \n",
      "lateral_convs.0.conv.weight - torch.Size([128, 224, 1, 1]): \n",
      "XavierInit: gain=1, distribution=uniform, bias=0 \n",
      " \n",
      "2023-10-08 13:53:12,860 - mmcv - INFO - \n",
      "lateral_convs.0.conv.bias - torch.Size([128]): \n",
      "The value is the same before and after calling `init_weights` of PAFPN  \n",
      " \n",
      "2023-10-08 13:53:12,861 - mmcv - INFO - \n",
      "lateral_convs.1.conv.weight - torch.Size([128, 576, 1, 1]): \n",
      "XavierInit: gain=1, distribution=uniform, bias=0 \n",
      " \n",
      "2023-10-08 13:53:12,862 - mmcv - INFO - \n",
      "lateral_convs.1.conv.bias - torch.Size([128]): \n",
      "The value is the same before and after calling `init_weights` of PAFPN  \n",
      " \n",
      "2023-10-08 13:53:12,863 - mmcv - INFO - \n",
      "lateral_convs.2.conv.weight - torch.Size([128, 736, 1, 1]): \n",
      "XavierInit: gain=1, distribution=uniform, bias=0 \n",
      " \n",
      "2023-10-08 13:53:12,864 - mmcv - INFO - \n",
      "lateral_convs.2.conv.bias - torch.Size([128]): \n",
      "The value is the same before and after calling `init_weights` of PAFPN  \n",
      " \n",
      "2023-10-08 13:53:12,864 - mmcv - INFO - \n",
      "fpn_convs.0.conv.weight - torch.Size([128, 128, 3, 3]): \n",
      "XavierInit: gain=1, distribution=uniform, bias=0 \n",
      " \n",
      "2023-10-08 13:53:12,865 - mmcv - INFO - \n",
      "fpn_convs.0.conv.bias - torch.Size([128]): \n",
      "The value is the same before and after calling `init_weights` of PAFPN  \n",
      " \n",
      "2023-10-08 13:53:12,866 - mmcv - INFO - \n",
      "fpn_convs.1.conv.weight - torch.Size([128, 128, 3, 3]): \n",
      "XavierInit: gain=1, distribution=uniform, bias=0 \n",
      " \n",
      "2023-10-08 13:53:12,867 - mmcv - INFO - \n",
      "fpn_convs.1.conv.bias - torch.Size([128]): \n",
      "The value is the same before and after calling `init_weights` of PAFPN  \n",
      " \n",
      "2023-10-08 13:53:12,868 - mmcv - INFO - \n",
      "fpn_convs.2.conv.weight - torch.Size([128, 128, 3, 3]): \n",
      "XavierInit: gain=1, distribution=uniform, bias=0 \n",
      " \n",
      "2023-10-08 13:53:12,868 - mmcv - INFO - \n",
      "fpn_convs.2.conv.bias - torch.Size([128]): \n",
      "The value is the same before and after calling `init_weights` of PAFPN  \n",
      " \n",
      "2023-10-08 13:53:12,869 - mmcv - INFO - \n",
      "downsample_convs.0.conv.weight - torch.Size([128, 128, 3, 3]): \n",
      "XavierInit: gain=1, distribution=uniform, bias=0 \n",
      " \n",
      "2023-10-08 13:53:12,870 - mmcv - INFO - \n",
      "downsample_convs.0.conv.bias - torch.Size([128]): \n",
      "The value is the same before and after calling `init_weights` of PAFPN  \n",
      " \n",
      "2023-10-08 13:53:12,870 - mmcv - INFO - \n",
      "downsample_convs.1.conv.weight - torch.Size([128, 128, 3, 3]): \n",
      "XavierInit: gain=1, distribution=uniform, bias=0 \n",
      " \n",
      "2023-10-08 13:53:12,871 - mmcv - INFO - \n",
      "downsample_convs.1.conv.bias - torch.Size([128]): \n",
      "The value is the same before and after calling `init_weights` of PAFPN  \n",
      " \n",
      "2023-10-08 13:53:12,872 - mmcv - INFO - \n",
      "pafpn_convs.0.conv.weight - torch.Size([128, 128, 3, 3]): \n",
      "XavierInit: gain=1, distribution=uniform, bias=0 \n",
      " \n",
      "2023-10-08 13:53:12,872 - mmcv - INFO - \n",
      "pafpn_convs.0.conv.bias - torch.Size([128]): \n",
      "The value is the same before and after calling `init_weights` of PAFPN  \n",
      " \n",
      "2023-10-08 13:53:12,873 - mmcv - INFO - \n",
      "pafpn_convs.1.conv.weight - torch.Size([128, 128, 3, 3]): \n",
      "XavierInit: gain=1, distribution=uniform, bias=0 \n",
      " \n",
      "2023-10-08 13:53:12,874 - mmcv - INFO - \n",
      "pafpn_convs.1.conv.bias - torch.Size([128]): \n",
      "The value is the same before and after calling `init_weights` of PAFPN  \n",
      " \n",
      "2023-10-08 13:53:12,887 - modelscope - INFO - loading model from C:\\Users\\dell\\.cache\\modelscope\\hub\\damo\\cv_resnet_facedetection_scrfd10gkps\\pytorch_model.bin\n"
     ]
    },
    {
     "name": "stdout",
     "output_type": "stream",
     "text": [
      "load checkpoint from local path: C:\\Users\\dell\\.cache\\modelscope\\hub\\damo\\cv_resnet_facedetection_scrfd10gkps\\pytorch_model.bin\n"
     ]
    },
    {
     "name": "stderr",
     "output_type": "stream",
     "text": [
      "2023-10-08 13:53:13,181 - modelscope - INFO - load model done\n",
      "2023-10-08 13:53:13,201 - modelscope - INFO - cuda is not available, using cpu instead.\n"
     ]
    }
   ],
   "source": [
    "salient_detect = pipeline(Tasks.semantic_segmentation, model='damo/cv_u2net_salient-detection')\n",
    "\n",
    "face_detection = pipeline(task=Tasks.face_detection, model='damo/cv_resnet_facedetection_scrfd10gkps')"
   ]
  },
  {
   "cell_type": "code",
   "execution_count": 16,
   "id": "2ce65edb",
   "metadata": {},
   "outputs": [
    {
     "data": {
      "text/plain": [
       "['身份证\\\\pdu0069993534_反面.jpg',\n",
       " '身份证\\\\pdu0069993534_正面.jpg',\n",
       " '身份证\\\\pdu0106518126_反面.jpg',\n",
       " '身份证\\\\pdu0106518126_正面.jpg',\n",
       " '身份证\\\\pdu1044448215_反面.jpg',\n",
       " '身份证\\\\pdu1044448215_正面.jpg',\n",
       " '身份证\\\\pdu1246080267_反面.jpg',\n",
       " '身份证\\\\pdu1246080267_正面.jpg',\n",
       " '身份证\\\\pdu1753810991_反面.jpg',\n",
       " '身份证\\\\pdu1753810991_正面.jpg',\n",
       " '身份证\\\\pdu2326382016_反面.jpg',\n",
       " '身份证\\\\pdu2326382016_正面.jpg',\n",
       " '身份证\\\\pdu2740341870_反面.jpg',\n",
       " '身份证\\\\pdu2740341870_正面.jpg',\n",
       " '身份证\\\\pdu2775974226_反面.jpg',\n",
       " '身份证\\\\pdu2775974226_正面.jpg',\n",
       " '身份证\\\\pdu3517901046_反面.jpg',\n",
       " '身份证\\\\pdu3517901046_正面.jpg',\n",
       " '身份证\\\\pdu3578354052_反面.jpg',\n",
       " '身份证\\\\pdu3578354052_正面.jpg',\n",
       " '身份证\\\\pdu4075128935_反面.jpg',\n",
       " '身份证\\\\pdu4075128935_正面.jpg',\n",
       " '身份证\\\\pdu4305017561_反面.jpg',\n",
       " '身份证\\\\pdu4305017561_正面.jpg',\n",
       " '身份证\\\\pdu4831151049_反面.jpg',\n",
       " '身份证\\\\pdu4831151049_正面.jpg',\n",
       " '身份证\\\\pdu5117016282_反面.jpg',\n",
       " '身份证\\\\pdu5117016282_正面.jpg',\n",
       " '身份证\\\\pdu5610324665_反面.jpg',\n",
       " '身份证\\\\pdu5610324665_正面.jpg',\n",
       " '身份证\\\\pdu6072328075_反面.jpg',\n",
       " '身份证\\\\pdu6072328075_正面.jpg',\n",
       " '身份证\\\\pdu6582052950_反面.jpg',\n",
       " '身份证\\\\pdu6582052950_正面.jpg',\n",
       " '身份证\\\\pdu6770309998_反面.jpg',\n",
       " '身份证\\\\pdu6770309998_正面.jpg',\n",
       " '身份证\\\\pdu6793745417_反面.jpg',\n",
       " '身份证\\\\pdu6793745417_正面.jpg',\n",
       " '身份证\\\\pdu7384855741_反面.jpg',\n",
       " '身份证\\\\pdu7384855741_正面.jpg',\n",
       " '身份证\\\\pdu7528806786_反面.jpg',\n",
       " '身份证\\\\pdu7528806786_正面.jpg',\n",
       " '身份证\\\\pdu8020255206_反面.jpg',\n",
       " '身份证\\\\pdu8020255206_正面.jpg',\n",
       " '身份证\\\\pdu8163700631_反面.jpg',\n",
       " '身份证\\\\pdu8163700631_正面.jpg',\n",
       " '身份证\\\\pdu8346499146_反面.jpg',\n",
       " '身份证\\\\pdu8346499146_正面.jpg',\n",
       " '身份证\\\\pdu8785940143_反面.jpg',\n",
       " '身份证\\\\pdu8785940143_正面.jpg',\n",
       " '身份证\\\\pdu8835007337_反面.jpg',\n",
       " '身份证\\\\pdu8835007337_正面.jpg',\n",
       " '身份证\\\\pdu9135306022_反面.jpg',\n",
       " '身份证\\\\pdu9135306022_正面.jpg',\n",
       " '身份证\\\\pdu9390404305_反面.jpg',\n",
       " '身份证\\\\pdu9390404305_正面.jpg',\n",
       " '身份证\\\\pdu9407325965_反面.jpg',\n",
       " '身份证\\\\pdu9407325965_正面.jpg',\n",
       " '身份证\\\\ywj55279_反面.jpg',\n",
       " '身份证\\\\ywj55279_正面.jpg']"
      ]
     },
     "execution_count": 16,
     "metadata": {},
     "output_type": "execute_result"
    }
   ],
   "source": [
    "img_path_list"
   ]
  },
  {
   "cell_type": "code",
   "execution_count": 18,
   "id": "e359bde4-c785-46c6-9fda-1b5cd18e8f7b",
   "metadata": {
    "ExecutionIndicator": {
     "show": false
    },
    "execution": {
     "iopub.execute_input": "2023-09-12T15:52:53.919974Z",
     "iopub.status.busy": "2023-09-12T15:52:53.919626Z",
     "iopub.status.idle": "2023-09-12T15:57:08.662686Z",
     "shell.execute_reply": "2023-09-12T15:57:08.662157Z",
     "shell.execute_reply.started": "2023-09-12T15:52:53.919957Z"
    },
    "tags": []
   },
   "outputs": [
    {
     "name": "stderr",
     "output_type": "stream",
     "text": [
      "d:\\Dev\\Projects\\Larry_project\\venv-larry\\lib\\site-packages\\torch\\nn\\functional.py:3737: UserWarning: nn.functional.upsample is deprecated. Use nn.functional.interpolate instead.\n",
      "  warnings.warn(\"nn.functional.upsample is deprecated. Use nn.functional.interpolate instead.\")\n",
      "d:\\Dev\\Projects\\Larry_project\\venv-larry\\lib\\site-packages\\mmdet\\models\\dense_heads\\anchor_head.py:123: UserWarning: DeprecationWarning: anchor_generator is deprecated, please use \"prior_generator\" instead\n",
      "  warnings.warn('DeprecationWarning: anchor_generator is deprecated, '\n",
      "d:\\Dev\\Projects\\Larry_project\\venv-larry\\lib\\site-packages\\mmdet\\core\\anchor\\anchor_generator.py:333: UserWarning: ``grid_anchors`` would be deprecated soon. Please use ``grid_priors`` \n",
      "  warnings.warn('``grid_anchors`` would be deprecated soon. '\n",
      "d:\\Dev\\Projects\\Larry_project\\venv-larry\\lib\\site-packages\\mmdet\\core\\anchor\\anchor_generator.py:369: UserWarning: ``single_level_grid_anchors`` would be deprecated soon. Please use ``single_level_grid_priors`` \n",
      "  warnings.warn(\n"
     ]
    },
    {
     "name": "stdout",
     "output_type": "stream",
     "text": [
      "Unexpected exception formatting exception. Falling back to standard exception\n"
     ]
    },
    {
     "name": "stderr",
     "output_type": "stream",
     "text": [
      "Traceback (most recent call last):\n",
      "  File \"d:\\Dev\\Projects\\Larry_project\\venv-larry\\lib\\site-packages\\IPython\\core\\magics\\execution.py\", line 1340, in time\n",
      "    exec(code, glob, local_ns)\n",
      "  File \"<timed exec>\", line 11, in <module>\n",
      "  File \"C:\\Users\\dell\\AppData\\Local\\Temp\\ipykernel_140932\\1991315082.py\", line -1, in get_black_bg_image\n",
      "KeyboardInterrupt\n",
      "\n",
      "During handling of the above exception, another exception occurred:\n",
      "\n",
      "Traceback (most recent call last):\n",
      "  File \"d:\\Dev\\Projects\\Larry_project\\venv-larry\\lib\\site-packages\\IPython\\core\\interactiveshell.py\", line 2120, in showtraceback\n",
      "    stb = self.InteractiveTB.structured_traceback(\n",
      "  File \"d:\\Dev\\Projects\\Larry_project\\venv-larry\\lib\\site-packages\\IPython\\core\\ultratb.py\", line 1435, in structured_traceback\n",
      "    return FormattedTB.structured_traceback(\n",
      "  File \"d:\\Dev\\Projects\\Larry_project\\venv-larry\\lib\\site-packages\\IPython\\core\\ultratb.py\", line 1326, in structured_traceback\n",
      "    return VerboseTB.structured_traceback(\n",
      "  File \"d:\\Dev\\Projects\\Larry_project\\venv-larry\\lib\\site-packages\\IPython\\core\\ultratb.py\", line 1173, in structured_traceback\n",
      "    formatted_exception = self.format_exception_as_a_whole(etype, evalue, etb, number_of_lines_of_context,\n",
      "  File \"d:\\Dev\\Projects\\Larry_project\\venv-larry\\lib\\site-packages\\IPython\\core\\ultratb.py\", line 1088, in format_exception_as_a_whole\n",
      "    frames.append(self.format_record(record))\n",
      "  File \"d:\\Dev\\Projects\\Larry_project\\venv-larry\\lib\\site-packages\\IPython\\core\\ultratb.py\", line 970, in format_record\n",
      "    frame_info.lines, Colors, self.has_colors, lvals\n",
      "  File \"d:\\Dev\\Projects\\Larry_project\\venv-larry\\lib\\site-packages\\IPython\\core\\ultratb.py\", line 792, in lines\n",
      "    return self._sd.lines\n",
      "  File \"d:\\Dev\\Projects\\Larry_project\\venv-larry\\lib\\site-packages\\stack_data\\utils.py\", line 145, in cached_property_wrapper\n",
      "    value = obj.__dict__[self.func.__name__] = self.func(obj)\n",
      "  File \"d:\\Dev\\Projects\\Larry_project\\venv-larry\\lib\\site-packages\\stack_data\\core.py\", line 734, in lines\n",
      "    pieces = self.included_pieces\n",
      "  File \"d:\\Dev\\Projects\\Larry_project\\venv-larry\\lib\\site-packages\\stack_data\\utils.py\", line 145, in cached_property_wrapper\n",
      "    value = obj.__dict__[self.func.__name__] = self.func(obj)\n",
      "  File \"d:\\Dev\\Projects\\Larry_project\\venv-larry\\lib\\site-packages\\stack_data\\core.py\", line 681, in included_pieces\n",
      "    pos = scope_pieces.index(self.executing_piece)\n",
      "  File \"d:\\Dev\\Projects\\Larry_project\\venv-larry\\lib\\site-packages\\stack_data\\utils.py\", line 145, in cached_property_wrapper\n",
      "    value = obj.__dict__[self.func.__name__] = self.func(obj)\n",
      "  File \"d:\\Dev\\Projects\\Larry_project\\venv-larry\\lib\\site-packages\\stack_data\\core.py\", line 660, in executing_piece\n",
      "    return only(\n",
      "  File \"d:\\Dev\\Projects\\Larry_project\\venv-larry\\lib\\site-packages\\executing\\executing.py\", line 116, in only\n",
      "    raise NotOneValueFound('Expected one value, found 0')\n",
      "executing.executing.NotOneValueFound: Expected one value, found 0\n"
     ]
    }
   ],
   "source": [
    "%%time\n",
    "\n",
    "for img_name, img_path in zip(img_list, img_path_list):\n",
    "    \n",
    "    try:    \n",
    "        # 读取图片到image对象\n",
    "        image = cv2.imread(img_path)\n",
    "\n",
    "        # 获得掩码图片\n",
    "        mask_image = get_mask(img_path)\n",
    "\n",
    "        # 用掩码图片获得黑底身份证图片\n",
    "        black_bg_image = get_black_bg_image(image, mask_image)\n",
    "\n",
    "        # 获得边框范围\n",
    "        card_range = get_card_range(black_bg_image)\n",
    "\n",
    "        # 判断边框是否为证件（如边框不是证件，则大概率是人像）\n",
    "        if range_is_card(image, card_range):\n",
    "            # 通过边框范围截取白底身份证图片\n",
    "            cropped_image = get_cropped_image(image, card_range)\n",
    "\n",
    "            # 如果高比宽长，就逆时针旋转90度\n",
    "            image = get_rotate_image_90(cropped_image)\n",
    "\n",
    "        else:\n",
    "            pass\n",
    "\n",
    "        cv2.imwrite('temp.jpg', image)\n",
    "\n",
    "        height, width = image.shape[:2]\n",
    "\n",
    "        # 判断是否需要上下180度翻转\n",
    "        if '正面' in img_path:\n",
    "            result = face_detection('temp.jpg')\n",
    "            if result['boxes'][0][0] < width/2:\n",
    "                print(f'{img_path} 翻转180度')\n",
    "                image = get_rotate_image_180(image)\n",
    "        else:\n",
    "            if back_is_upside_down(image):\n",
    "                print(f'{img_path} 翻转180度')\n",
    "                image = get_rotate_image_180(image)\n",
    "\n",
    "        image = get_resized_image(image)\n",
    "\n",
    "        # 输出图片\n",
    "        cv2.imwrite(os.path.join(output_path, 'output_' + img_name), image)\n",
    "\n",
    "    except Exception as e:\n",
    "        print(f'!!!ERROR!!! {img_path}:\\n{e}\\n')"
   ]
  },
  {
   "cell_type": "code",
   "execution_count": 33,
   "id": "ec7533c4-9d54-4282-b9ee-c56d5085252f",
   "metadata": {
    "execution": {
     "iopub.execute_input": "2023-09-12T16:00:02.722360Z",
     "iopub.status.busy": "2023-09-12T16:00:02.722005Z",
     "iopub.status.idle": "2023-09-12T16:00:02.872952Z",
     "shell.execute_reply": "2023-09-12T16:00:02.872433Z",
     "shell.execute_reply.started": "2023-09-12T16:00:02.722340Z"
    },
    "tags": []
   },
   "outputs": [
    {
     "data": {
      "text/plain": [
       "'/mnt/workspace/output.zip'"
      ]
     },
     "execution_count": 33,
     "metadata": {},
     "output_type": "execute_result"
    }
   ],
   "source": [
    "shutil.make_archive('output', 'zip', 'output')"
   ]
  },
  {
   "cell_type": "code",
   "execution_count": null,
   "id": "18fac3f9-ef94-49f8-896c-64341f44867a",
   "metadata": {},
   "outputs": [],
   "source": [
    "# img_path = '身份证/pdu5117016282_正面.jpg'\n",
    "\n",
    "# # 读取图片到image对象\n",
    "# image = cv2.imread(img_path)\n",
    "\n",
    "# # 获得掩码图片\n",
    "# mask_image = get_mask(img_path)\n",
    "\n",
    "# # 用掩码图片获得黑底身份证图片\n",
    "# black_bg_image = get_black_bg_image(image, mask_image)\n",
    "\n",
    "# # 获得边框范围\n",
    "# card_range = get_card_range(black_bg_image)\n",
    "\n",
    "# # cv2.imwrite('out.jpg', mask_image)\n",
    "# range_is_card(image, card_range)"
   ]
  },
  {
   "cell_type": "code",
   "execution_count": null,
   "id": "fcd05c73-604f-4333-ae3a-79a2b0e8fa82",
   "metadata": {},
   "outputs": [],
   "source": []
  },
  {
   "cell_type": "code",
   "execution_count": 60,
   "id": "85b80116-c0cd-43b5-8623-659b2ecb32fb",
   "metadata": {
    "ExecutionIndicator": {
     "show": true
    },
    "execution": {
     "iopub.execute_input": "2023-09-12T16:39:37.557209Z",
     "iopub.status.busy": "2023-09-12T16:39:37.556878Z",
     "iopub.status.idle": "2023-09-12T16:39:37.559904Z",
     "shell.execute_reply": "2023-09-12T16:39:37.559393Z",
     "shell.execute_reply.started": "2023-09-12T16:39:37.557192Z"
    },
    "tags": []
   },
   "outputs": [],
   "source": [
    "output_docx_folder = '身份证_docx'"
   ]
  },
  {
   "cell_type": "code",
   "execution_count": 55,
   "id": "78da8b66-a34b-4853-8b34-a0b13ac5622f",
   "metadata": {
    "ExecutionIndicator": {
     "show": false
    },
    "execution": {
     "iopub.execute_input": "2023-09-12T16:29:32.682705Z",
     "iopub.status.busy": "2023-09-12T16:29:32.682343Z",
     "iopub.status.idle": "2023-09-12T16:29:32.686073Z",
     "shell.execute_reply": "2023-09-12T16:29:32.685503Z",
     "shell.execute_reply.started": "2023-09-12T16:29:32.682685Z"
    },
    "tags": []
   },
   "outputs": [],
   "source": [
    "output_list = [img_name for img_name in os.listdir(output_path) if '.jpg' in img_name]\n",
    "output_path_list = [os.path.join(output_path, img_name) for img_name in output_list]"
   ]
  },
  {
   "cell_type": "code",
   "execution_count": 68,
   "id": "4383210b-dbb7-49c6-ab3b-5fbead34d05c",
   "metadata": {
    "ExecutionIndicator": {
     "show": true
    },
    "execution": {
     "iopub.execute_input": "2023-09-12T16:52:38.945339Z",
     "iopub.status.busy": "2023-09-12T16:52:38.944996Z",
     "iopub.status.idle": "2023-09-12T16:52:39.631136Z",
     "shell.execute_reply": "2023-09-12T16:52:39.630594Z",
     "shell.execute_reply.started": "2023-09-12T16:52:38.945320Z"
    },
    "tags": []
   },
   "outputs": [],
   "source": [
    "for output_path in output_path_list:\n",
    "    if '正面' in output_path:\n",
    "        doc = Document()\n",
    "        \n",
    "        doc.add_paragraph()\n",
    "        doc.add_paragraph()\n",
    "        \n",
    "        image_front_p = doc.add_paragraph()\n",
    "        image_front_r = image_front_p.add_run()\n",
    "        image_front_r.add_picture(output_path, width=Inches(5))\n",
    "        image_front_p.alignment = WD_ALIGN_PARAGRAPH.CENTER\n",
    "        \n",
    "        doc.add_paragraph()\n",
    "        doc.add_paragraph()\n",
    "        \n",
    "        image_back_p = doc.add_paragraph()\n",
    "        image_back_r = image_back_p.add_run()\n",
    "        image_back_r.add_picture(output_path.replace('正面', '反面'), width=Inches(5))\n",
    "        image_back_p.alignment = WD_ALIGN_PARAGRAPH.CENTER\n",
    "        \n",
    "        doc_file_name = os.path.join(output_docx_folder, output_path.split('/')[-1].split('_')[1] + '_身份证正反面.docx')\n",
    "        \n",
    "        doc.save(doc_file_name)"
   ]
  },
  {
   "cell_type": "code",
   "execution_count": 69,
   "id": "2b8be501-7d37-48a8-b67e-25e05f871ef1",
   "metadata": {
    "ExecutionIndicator": {
     "show": true
    },
    "execution": {
     "iopub.execute_input": "2023-09-12T16:53:13.310066Z",
     "iopub.status.busy": "2023-09-12T16:53:13.309727Z",
     "iopub.status.idle": "2023-09-12T16:53:13.494338Z",
     "shell.execute_reply": "2023-09-12T16:53:13.492919Z",
     "shell.execute_reply.started": "2023-09-12T16:53:13.310048Z"
    },
    "tags": []
   },
   "outputs": [
    {
     "data": {
      "text/plain": [
       "'/mnt/workspace/身份证_docx.zip'"
      ]
     },
     "execution_count": 69,
     "metadata": {},
     "output_type": "execute_result"
    }
   ],
   "source": [
    "shutil.make_archive(output_docx_folder, 'zip', output_docx_folder)"
   ]
  },
  {
   "cell_type": "code",
   "execution_count": null,
   "id": "37d5a6ba-435a-4c72-a584-c7e841e16dcd",
   "metadata": {},
   "outputs": [],
   "source": []
  }
 ],
 "metadata": {
  "kernelspec": {
   "display_name": "Python 3 (ipykernel)",
   "language": "python",
   "name": "python3"
  },
  "language_info": {
   "codemirror_mode": {
    "name": "ipython",
    "version": 3
   },
   "file_extension": ".py",
   "mimetype": "text/x-python",
   "name": "python",
   "nbconvert_exporter": "python",
   "pygments_lexer": "ipython3",
   "version": "3.10.10"
  }
 },
 "nbformat": 4,
 "nbformat_minor": 5
}
