{
 "cells": [
  {
   "cell_type": "code",
   "execution_count": 2,
   "id": "e803b487-a254-4b6a-9634-0614e0bad73b",
   "metadata": {
    "ExecutionIndicator": {
     "show": true
    },
    "execution": {
     "iopub.execute_input": "2023-09-12T14:24:31.976285Z",
     "iopub.status.busy": "2023-09-12T14:24:31.975912Z",
     "iopub.status.idle": "2023-09-12T14:24:31.987463Z",
     "shell.execute_reply": "2023-09-12T14:24:31.986986Z",
     "shell.execute_reply.started": "2023-09-12T14:24:31.976265Z"
    },
    "tags": []
   },
   "outputs": [
    {
     "name": "stdout",
     "output_type": "stream",
     "text": [
      "Left Red: 40\n",
      "Rgith Red: 1662\n",
      "右半区的红色像素更多\n"
     ]
    }
   ],
   "source": [
    "import cv2\n",
    "import numpy as np\n",
    "\n",
    "# 加载图片\n",
    "image = cv2.imread('output_pdu8346499146_反面.jpg')\n",
    "\n",
    "# 获取图片的宽度和高度\n",
    "height, width, _ = image.shape\n",
    "\n",
    "# 分割图片为左右两个半区\n",
    "left_half = image[:, :width // 2]\n",
    "right_half = image[:, width // 2:]\n",
    "\n",
    "# 定义一个函数来计算红色像素的数量\n",
    "def count_red_pixels(image):\n",
    "    # 在HSV颜色空间中定义红色范围\n",
    "    lower_red = np.array([0, 100, 100])\n",
    "    upper_red = np.array([10, 255, 255])\n",
    "\n",
    "    # 转换图片到HSV颜色空间\n",
    "    hsv = cv2.cvtColor(image, cv2.COLOR_BGR2HSV)\n",
    "\n",
    "    # 使用掩码来获取红色像素\n",
    "    mask = cv2.inRange(hsv, lower_red, upper_red)\n",
    "    red_pixels = cv2.countNonZero(mask)\n",
    "\n",
    "    return red_pixels\n",
    "\n",
    "# 计算左右两个半区的红色像素数量\n",
    "red_pixels_left = count_red_pixels(left_half)\n",
    "red_pixels_right = count_red_pixels(right_half)\n",
    "\n",
    "print(f'Left Red: {red_pixels_left}')\n",
    "print(f'Rgith Red: {red_pixels_right}')\n",
    "\n",
    "# 比较红色像素数量并输出结果\n",
    "if red_pixels_left > red_pixels_right:\n",
    "    print(\"左半区的红色像素更多\")\n",
    "elif red_pixels_left < red_pixels_right:\n",
    "    print(\"右半区的红色像素更多\")\n",
    "else:\n",
    "    print(\"左右两个半区的红色像素数量相等\")"
   ]
  },
  {
   "cell_type": "code",
   "execution_count": null,
   "id": "bab983ab-7d57-44fb-8b0d-606e62ba2b20",
   "metadata": {},
   "outputs": [],
   "source": []
  }
 ],
 "metadata": {
  "kernelspec": {
   "display_name": "Python 3 (ipykernel)",
   "language": "python",
   "name": "python3"
  },
  "language_info": {
   "codemirror_mode": {
    "name": "ipython",
    "version": 3
   },
   "file_extension": ".py",
   "mimetype": "text/x-python",
   "name": "python",
   "nbconvert_exporter": "python",
   "pygments_lexer": "ipython3",
   "version": "3.8.16"
  }
 },
 "nbformat": 4,
 "nbformat_minor": 5
}
